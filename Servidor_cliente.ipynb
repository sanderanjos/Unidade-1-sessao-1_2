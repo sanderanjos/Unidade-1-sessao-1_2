{
  "cells": [
    {
      "cell_type": "markdown",
      "metadata": {
        "id": "view-in-github",
        "colab_type": "text"
      },
      "source": [
        "<a href=\"https://colab.research.google.com/github/sanderanjos/Unidade-1-sessao-1_2/blob/main/Servidor_cliente.ipynb\" target=\"_parent\"><img src=\"https://colab.research.google.com/assets/colab-badge.svg\" alt=\"Open In Colab\"/></a>"
      ]
    },
    {
      "cell_type": "markdown",
      "source": [
        "# Nova seção"
      ],
      "metadata": {
        "id": "rjgcPQlNPXFn"
      }
    },
    {
      "cell_type": "code",
      "source": [
        "import socket\n",
        "import threading\n",
        "import time\n",
        "\n",
        "# Dados do servidor\n",
        "HOST = '127.0.0.1'  # Loopback IP, significa 'este computador'\n",
        "PORT = 65432        # Porta arbitrária para comunicação (deve ser maior que 1023)\n",
        "\n",
        "def handle_client(conn, addr):\n",
        "    \"\"\"Função para lidar com a conexão de um cliente específico.\"\"\"\n",
        "    print(f\"[{time.strftime('%H:%M:%S')}] Conectado por {addr}\")\n",
        "    try:\n",
        "        # Recebe dados do cliente\n",
        "        data = conn.recv(1024) # buffer de 1024 bytes\n",
        "        if not data:\n",
        "            print(f\"[{time.strftime('%H:%M:%S')}] Cliente {addr} desconectou.\")\n",
        "            return\n",
        "\n",
        "        message = data.decode('utf-8')\n",
        "        print(f\"[{time.strftime('%H:%M:%S')}] Recebido de {addr}: '{message}'\")\n",
        "\n",
        "        # Processa a mensagem (ex: converte para maiúsculas)\n",
        "        response = f\"SERVIDOR: Sua mensagem '{message}' foi processada para '{message.upper()}'.\"\n",
        "        conn.sendall(response.encode('utf-8')) # Envia a resposta de volta ao cliente\n",
        "        print(f\"[{time.strftime('%H:%M:%S')}] Enviado para {addr}: '{response}'\")\n",
        "\n",
        "    except Exception as e:\n",
        "        print(f\"[{time.strftime('%H:%M:%S')}] Erro na comunicação com {addr}: {e}\")\n",
        "    finally:\n",
        "        conn.close() # Garante que a conexão seja fechada\n",
        "        print(f\"[{time.strftime('%H:%M:%S')}] Conexão com {addr} fechada.\")\n",
        "\n",
        "def start_server():\n",
        "    \"\"\"Inicia o servidor e aguarda por conexões.\"\"\"\n",
        "    # Cria um socket TCP/IP\n",
        "    # AF_INET indica IPv4, SOCK_STREAM indica TCP\n",
        "    with socket.socket(socket.AF_INET, socket.SOCK_STREAM) as s:\n",
        "        s.bind((HOST, PORT)) # Associa o socket ao endereço e porta\n",
        "        s.listen() # Começa a escutar por conexões (pode aceitar 1 conexão na fila)\n",
        "        print(f\"[{time.strftime('%H:%M:%S')}] Servidor escutando em {HOST}:{PORT}...\")\n",
        "\n",
        "        while True:\n",
        "            # Aceita uma nova conexão\n",
        "            conn, addr = s.accept() # Bloqueia até que um cliente se conecte\n",
        "            # Cria uma nova thread para lidar com o cliente, permitindo múltiplos clientes (conceitualmente)\n",
        "            client_thread = threading.Thread(target=handle_client, args=(conn, addr))\n",
        "            client_thread.start()\n",
        "\n",
        "# Inicia o servidor em uma thread separada para não bloquear o ambiente do Colab\n",
        "server_thread = threading.Thread(target=start_server)\n",
        "server_thread.daemon = True # Permite que a thread do servidor seja encerrada com o programa principal\n",
        "server_thread.start()\n",
        "print(\"Servidor iniciado em segundo plano. Aguardando a execução do cliente...\")\n",
        "\n",
        "# Para garantir que o servidor tenha tempo de inicializar antes de você tentar conectar o cliente\n",
        "time.sleep(2)"
      ],
      "metadata": {
        "id": "ZwJ00EUXPX7v",
        "outputId": "4074aeaa-d988-40ac-a2b2-0852fd56c8de",
        "colab": {
          "base_uri": "https://localhost:8080/"
        }
      },
      "execution_count": null,
      "outputs": [
        {
          "output_type": "stream",
          "name": "stdout",
          "text": [
            "[00:47:18] Servidor escutando em 127.0.0.1:65432...\n",
            "Servidor iniciado em segundo plano. Aguardando a execução do cliente...\n"
          ]
        }
      ]
    },
    {
      "cell_type": "markdown",
      "source": [
        "# Nova seção"
      ],
      "metadata": {
        "id": "Btzta4QbPY_-"
      }
    },
    {
      "cell_type": "code",
      "source": [
        "import socket\n",
        "import time\n",
        "\n",
        "# Dados do servidor (devem ser os mesmos que o servidor está escutando)\n",
        "HOST = '127.0.0.1'\n",
        "PORT = 65432\n",
        "\n",
        "def start_client():\n",
        "    \"\"\"Inicia o cliente, conecta-se ao servidor e envia uma mensagem.\"\"\"\n",
        "    # Cria um socket TCP/IP\n",
        "    with socket.socket(socket.AF_INET, socket.SOCK_STREAM) as s:\n",
        "        try:\n",
        "            s.connect((HOST, PORT)) # Tenta conectar ao servidor\n",
        "            print(f\"[{time.strftime('%H:%M:%S')}] Conectado ao servidor em {HOST}:{PORT}\")\n",
        "\n",
        "            message = \"Olá, Servidor! Esta é uma mensagem do cliente.\"\n",
        "            s.sendall(message.encode('utf-8')) # Envia a mensagem codificada em bytes\n",
        "            print(f\"[{time.strftime('%H:%M:%S')}] Enviado: '{message}'\")\n",
        "\n",
        "            data = s.recv(1024) # Recebe a resposta do servidor\n",
        "            response = data.decode('utf-8')\n",
        "            print(f\"[{time.strftime('%H:%M:%S')}] Recebido do servidor: '{response}'\")\n",
        "\n",
        "        except ConnectionRefusedError:\n",
        "            print(f\"[{time.strftime('%H:%M:%S')}] Erro: Conexão recusada. Certifique-se de que o servidor está rodando em {HOST}:{PORT}\")\n",
        "        except Exception as e:\n",
        "            print(f\"[{time.strftime('%H:%M:%S')}] Erro no cliente: {e}\")\n",
        "        finally:\n",
        "            s.close() # Garante que a conexão seja fechada\n",
        "\n",
        "# Executa o cliente\n",
        "start_client()"
      ],
      "metadata": {
        "id": "3QZs0NjePhx2",
        "outputId": "5c027cb4-8a9f-400e-9f51-61815e785b2c",
        "colab": {
          "base_uri": "https://localhost:8080/"
        }
      },
      "execution_count": null,
      "outputs": [
        {
          "output_type": "stream",
          "name": "stdout",
          "text": [
            "[00:47:20] Conectado ao servidor em 127.0.0.1:65432\n",
            "[00:47:20] Enviado: 'Olá, Servidor! Esta é uma mensagem do cliente.'\n",
            "[00:47:20] Conectado por ('127.0.0.1', 59402)\n",
            "[00:47:20] Recebido de ('127.0.0.1', 59402): 'Olá, Servidor! Esta é uma mensagem do cliente.'\n",
            "[00:47:20] Recebido do servidor: 'SERVIDOR: Sua mensagem 'Olá, Servidor! Esta é uma mensagem do cliente.' foi processada para 'OLÁ, SERVIDOR! ESTA É UMA MENSAGEM DO CLIENTE.'.'\n",
            "[00:47:20] Enviado para ('127.0.0.1', 59402): 'SERVIDOR: Sua mensagem 'Olá, Servidor! Esta é uma mensagem do cliente.' foi processada para 'OLÁ, SERVIDOR! ESTA É UMA MENSAGEM DO CLIENTE.'.'\n",
            "[00:47:20] Conexão com ('127.0.0.1', 59402) fechada.\n"
          ]
        }
      ]
    }
  ],
  "metadata": {
    "colab": {
      "provenance": [],
      "include_colab_link": true
    },
    "kernelspec": {
      "display_name": "Python 3",
      "name": "python3"
    }
  },
  "nbformat": 4,
  "nbformat_minor": 0
}